{
 "cells": [
  {
   "cell_type": "code",
   "execution_count": 3,
   "id": "ba6a89db",
   "metadata": {},
   "outputs": [],
   "source": [
    "import pandas as pd\n",
    "df = pd.read_csv(\"diamonds.csv\")"
   ]
  },
  {
   "cell_type": "code",
   "execution_count": 4,
   "id": "836980e1",
   "metadata": {},
   "outputs": [
    {
     "data": {
      "text/html": [
       "<div>\n",
       "<style scoped>\n",
       "    .dataframe tbody tr th:only-of-type {\n",
       "        vertical-align: middle;\n",
       "    }\n",
       "\n",
       "    .dataframe tbody tr th {\n",
       "        vertical-align: top;\n",
       "    }\n",
       "\n",
       "    .dataframe thead th {\n",
       "        text-align: right;\n",
       "    }\n",
       "</style>\n",
       "<table border=\"1\" class=\"dataframe\">\n",
       "  <thead>\n",
       "    <tr style=\"text-align: right;\">\n",
       "      <th></th>\n",
       "      <th>Unnamed: 0</th>\n",
       "      <th>carat</th>\n",
       "      <th>cut</th>\n",
       "      <th>color</th>\n",
       "      <th>clarity</th>\n",
       "      <th>depth</th>\n",
       "      <th>table</th>\n",
       "      <th>price</th>\n",
       "      <th>x</th>\n",
       "      <th>y</th>\n",
       "      <th>z</th>\n",
       "    </tr>\n",
       "  </thead>\n",
       "  <tbody>\n",
       "    <tr>\n",
       "      <th>0</th>\n",
       "      <td>1</td>\n",
       "      <td>0.23</td>\n",
       "      <td>Ideal</td>\n",
       "      <td>E</td>\n",
       "      <td>SI2</td>\n",
       "      <td>61.5</td>\n",
       "      <td>55.0</td>\n",
       "      <td>326</td>\n",
       "      <td>3.95</td>\n",
       "      <td>3.98</td>\n",
       "      <td>2.43</td>\n",
       "    </tr>\n",
       "    <tr>\n",
       "      <th>1</th>\n",
       "      <td>2</td>\n",
       "      <td>0.21</td>\n",
       "      <td>Premium</td>\n",
       "      <td>E</td>\n",
       "      <td>SI1</td>\n",
       "      <td>59.8</td>\n",
       "      <td>61.0</td>\n",
       "      <td>326</td>\n",
       "      <td>3.89</td>\n",
       "      <td>3.84</td>\n",
       "      <td>2.31</td>\n",
       "    </tr>\n",
       "    <tr>\n",
       "      <th>2</th>\n",
       "      <td>3</td>\n",
       "      <td>0.23</td>\n",
       "      <td>Good</td>\n",
       "      <td>E</td>\n",
       "      <td>VS1</td>\n",
       "      <td>56.9</td>\n",
       "      <td>65.0</td>\n",
       "      <td>327</td>\n",
       "      <td>4.05</td>\n",
       "      <td>4.07</td>\n",
       "      <td>2.31</td>\n",
       "    </tr>\n",
       "    <tr>\n",
       "      <th>3</th>\n",
       "      <td>4</td>\n",
       "      <td>0.29</td>\n",
       "      <td>Premium</td>\n",
       "      <td>I</td>\n",
       "      <td>VS2</td>\n",
       "      <td>62.4</td>\n",
       "      <td>58.0</td>\n",
       "      <td>334</td>\n",
       "      <td>4.20</td>\n",
       "      <td>4.23</td>\n",
       "      <td>2.63</td>\n",
       "    </tr>\n",
       "    <tr>\n",
       "      <th>4</th>\n",
       "      <td>5</td>\n",
       "      <td>0.31</td>\n",
       "      <td>Good</td>\n",
       "      <td>J</td>\n",
       "      <td>SI2</td>\n",
       "      <td>63.3</td>\n",
       "      <td>58.0</td>\n",
       "      <td>335</td>\n",
       "      <td>4.34</td>\n",
       "      <td>4.35</td>\n",
       "      <td>2.75</td>\n",
       "    </tr>\n",
       "  </tbody>\n",
       "</table>\n",
       "</div>"
      ],
      "text/plain": [
       "   Unnamed: 0  carat      cut color clarity  depth  table  price     x     y  \\\n",
       "0           1   0.23    Ideal     E     SI2   61.5   55.0    326  3.95  3.98   \n",
       "1           2   0.21  Premium     E     SI1   59.8   61.0    326  3.89  3.84   \n",
       "2           3   0.23     Good     E     VS1   56.9   65.0    327  4.05  4.07   \n",
       "3           4   0.29  Premium     I     VS2   62.4   58.0    334  4.20  4.23   \n",
       "4           5   0.31     Good     J     SI2   63.3   58.0    335  4.34  4.35   \n",
       "\n",
       "      z  \n",
       "0  2.43  \n",
       "1  2.31  \n",
       "2  2.31  \n",
       "3  2.63  \n",
       "4  2.75  "
      ]
     },
     "execution_count": 4,
     "metadata": {},
     "output_type": "execute_result"
    }
   ],
   "source": [
    "df.head()"
   ]
  },
  {
   "cell_type": "code",
   "execution_count": 5,
   "id": "427c5eb0",
   "metadata": {},
   "outputs": [],
   "source": [
    "df = df.drop('Unnamed: 0',axis=1)"
   ]
  },
  {
   "cell_type": "code",
   "execution_count": 6,
   "id": "af786f01",
   "metadata": {},
   "outputs": [],
   "source": [
    "df_ohe = pd.get_dummies(df)"
   ]
  },
  {
   "cell_type": "code",
   "execution_count": 7,
   "id": "6be7479d",
   "metadata": {},
   "outputs": [
    {
     "data": {
      "text/plain": [
       "(53940, 27)"
      ]
     },
     "execution_count": 7,
     "metadata": {},
     "output_type": "execute_result"
    }
   ],
   "source": [
    "df_ohe.shape"
   ]
  },
  {
   "cell_type": "markdown",
   "id": "f156c639",
   "metadata": {},
   "source": [
    "# Apply PCA"
   ]
  },
  {
   "cell_type": "code",
   "execution_count": 8,
   "id": "b5b26eb7",
   "metadata": {},
   "outputs": [],
   "source": [
    "from sklearn.decomposition import PCA"
   ]
  },
  {
   "cell_type": "code",
   "execution_count": 9,
   "id": "1243fb7c",
   "metadata": {},
   "outputs": [],
   "source": [
    "pca = PCA(random_state=7)"
   ]
  },
  {
   "cell_type": "code",
   "execution_count": 10,
   "id": "58aa4a91",
   "metadata": {},
   "outputs": [
    {
     "data": {
      "text/html": [
       "<style>#sk-container-id-1 {color: black;}#sk-container-id-1 pre{padding: 0;}#sk-container-id-1 div.sk-toggleable {background-color: white;}#sk-container-id-1 label.sk-toggleable__label {cursor: pointer;display: block;width: 100%;margin-bottom: 0;padding: 0.3em;box-sizing: border-box;text-align: center;}#sk-container-id-1 label.sk-toggleable__label-arrow:before {content: \"▸\";float: left;margin-right: 0.25em;color: #696969;}#sk-container-id-1 label.sk-toggleable__label-arrow:hover:before {color: black;}#sk-container-id-1 div.sk-estimator:hover label.sk-toggleable__label-arrow:before {color: black;}#sk-container-id-1 div.sk-toggleable__content {max-height: 0;max-width: 0;overflow: hidden;text-align: left;background-color: #f0f8ff;}#sk-container-id-1 div.sk-toggleable__content pre {margin: 0.2em;color: black;border-radius: 0.25em;background-color: #f0f8ff;}#sk-container-id-1 input.sk-toggleable__control:checked~div.sk-toggleable__content {max-height: 200px;max-width: 100%;overflow: auto;}#sk-container-id-1 input.sk-toggleable__control:checked~label.sk-toggleable__label-arrow:before {content: \"▾\";}#sk-container-id-1 div.sk-estimator input.sk-toggleable__control:checked~label.sk-toggleable__label {background-color: #d4ebff;}#sk-container-id-1 div.sk-label input.sk-toggleable__control:checked~label.sk-toggleable__label {background-color: #d4ebff;}#sk-container-id-1 input.sk-hidden--visually {border: 0;clip: rect(1px 1px 1px 1px);clip: rect(1px, 1px, 1px, 1px);height: 1px;margin: -1px;overflow: hidden;padding: 0;position: absolute;width: 1px;}#sk-container-id-1 div.sk-estimator {font-family: monospace;background-color: #f0f8ff;border: 1px dotted black;border-radius: 0.25em;box-sizing: border-box;margin-bottom: 0.5em;}#sk-container-id-1 div.sk-estimator:hover {background-color: #d4ebff;}#sk-container-id-1 div.sk-parallel-item::after {content: \"\";width: 100%;border-bottom: 1px solid gray;flex-grow: 1;}#sk-container-id-1 div.sk-label:hover label.sk-toggleable__label {background-color: #d4ebff;}#sk-container-id-1 div.sk-serial::before {content: \"\";position: absolute;border-left: 1px solid gray;box-sizing: border-box;top: 0;bottom: 0;left: 50%;z-index: 0;}#sk-container-id-1 div.sk-serial {display: flex;flex-direction: column;align-items: center;background-color: white;padding-right: 0.2em;padding-left: 0.2em;position: relative;}#sk-container-id-1 div.sk-item {position: relative;z-index: 1;}#sk-container-id-1 div.sk-parallel {display: flex;align-items: stretch;justify-content: center;background-color: white;position: relative;}#sk-container-id-1 div.sk-item::before, #sk-container-id-1 div.sk-parallel-item::before {content: \"\";position: absolute;border-left: 1px solid gray;box-sizing: border-box;top: 0;bottom: 0;left: 50%;z-index: -1;}#sk-container-id-1 div.sk-parallel-item {display: flex;flex-direction: column;z-index: 1;position: relative;background-color: white;}#sk-container-id-1 div.sk-parallel-item:first-child::after {align-self: flex-end;width: 50%;}#sk-container-id-1 div.sk-parallel-item:last-child::after {align-self: flex-start;width: 50%;}#sk-container-id-1 div.sk-parallel-item:only-child::after {width: 0;}#sk-container-id-1 div.sk-dashed-wrapped {border: 1px dashed gray;margin: 0 0.4em 0.5em 0.4em;box-sizing: border-box;padding-bottom: 0.4em;background-color: white;}#sk-container-id-1 div.sk-label label {font-family: monospace;font-weight: bold;display: inline-block;line-height: 1.2em;}#sk-container-id-1 div.sk-label-container {text-align: center;}#sk-container-id-1 div.sk-container {/* jupyter's `normalize.less` sets `[hidden] { display: none; }` but bootstrap.min.css set `[hidden] { display: none !important; }` so we also need the `!important` here to be able to override the default hidden behavior on the sphinx rendered scikit-learn.org. See: https://github.com/scikit-learn/scikit-learn/issues/21755 */display: inline-block !important;position: relative;}#sk-container-id-1 div.sk-text-repr-fallback {display: none;}</style><div id=\"sk-container-id-1\" class=\"sk-top-container\"><div class=\"sk-text-repr-fallback\"><pre>PCA(random_state=7)</pre><b>In a Jupyter environment, please rerun this cell to show the HTML representation or trust the notebook. <br />On GitHub, the HTML representation is unable to render, please try loading this page with nbviewer.org.</b></div><div class=\"sk-container\" hidden><div class=\"sk-item\"><div class=\"sk-estimator sk-toggleable\"><input class=\"sk-toggleable__control sk-hidden--visually\" id=\"sk-estimator-id-1\" type=\"checkbox\" checked><label for=\"sk-estimator-id-1\" class=\"sk-toggleable__label sk-toggleable__label-arrow\">PCA</label><div class=\"sk-toggleable__content\"><pre>PCA(random_state=7)</pre></div></div></div></div></div>"
      ],
      "text/plain": [
       "PCA(random_state=7)"
      ]
     },
     "execution_count": 10,
     "metadata": {},
     "output_type": "execute_result"
    }
   ],
   "source": [
    "pca.fit(df_ohe)"
   ]
  },
  {
   "cell_type": "code",
   "execution_count": 11,
   "id": "3b73a75f",
   "metadata": {},
   "outputs": [],
   "source": [
    "trans_data = pca.transform(df_ohe)"
   ]
  },
  {
   "cell_type": "code",
   "execution_count": 12,
   "id": "3fb35799",
   "metadata": {},
   "outputs": [
    {
     "data": {
      "text/plain": [
       "numpy.ndarray"
      ]
     },
     "execution_count": 12,
     "metadata": {},
     "output_type": "execute_result"
    }
   ],
   "source": [
    "type(trans_data)"
   ]
  },
  {
   "cell_type": "code",
   "execution_count": 13,
   "id": "c94ff832",
   "metadata": {},
   "outputs": [],
   "source": [
    "df_trans = pd.DataFrame(trans_data, index=df_ohe.index)"
   ]
  },
  {
   "cell_type": "code",
   "execution_count": 14,
   "id": "0ae22b73",
   "metadata": {},
   "outputs": [
    {
     "data": {
      "text/html": [
       "<div>\n",
       "<style scoped>\n",
       "    .dataframe tbody tr th:only-of-type {\n",
       "        vertical-align: middle;\n",
       "    }\n",
       "\n",
       "    .dataframe tbody tr th {\n",
       "        vertical-align: top;\n",
       "    }\n",
       "\n",
       "    .dataframe thead th {\n",
       "        text-align: right;\n",
       "    }\n",
       "</style>\n",
       "<table border=\"1\" class=\"dataframe\">\n",
       "  <thead>\n",
       "    <tr style=\"text-align: right;\">\n",
       "      <th></th>\n",
       "      <th>0</th>\n",
       "      <th>1</th>\n",
       "      <th>2</th>\n",
       "      <th>3</th>\n",
       "      <th>4</th>\n",
       "      <th>5</th>\n",
       "      <th>6</th>\n",
       "      <th>7</th>\n",
       "      <th>8</th>\n",
       "      <th>9</th>\n",
       "      <th>...</th>\n",
       "      <th>17</th>\n",
       "      <th>18</th>\n",
       "      <th>19</th>\n",
       "      <th>20</th>\n",
       "      <th>21</th>\n",
       "      <th>22</th>\n",
       "      <th>23</th>\n",
       "      <th>24</th>\n",
       "      <th>25</th>\n",
       "      <th>26</th>\n",
       "    </tr>\n",
       "  </thead>\n",
       "  <tbody>\n",
       "    <tr>\n",
       "      <th>0</th>\n",
       "      <td>-3606.800717</td>\n",
       "      <td>-2.166804</td>\n",
       "      <td>-0.995908</td>\n",
       "      <td>-0.962445</td>\n",
       "      <td>0.099581</td>\n",
       "      <td>-0.023399</td>\n",
       "      <td>0.145777</td>\n",
       "      <td>-0.185704</td>\n",
       "      <td>-0.794908</td>\n",
       "      <td>0.874357</td>\n",
       "      <td>...</td>\n",
       "      <td>-0.187188</td>\n",
       "      <td>0.052929</td>\n",
       "      <td>0.133208</td>\n",
       "      <td>0.146051</td>\n",
       "      <td>-0.017616</td>\n",
       "      <td>0.136521</td>\n",
       "      <td>0.005772</td>\n",
       "      <td>-3.538836e-16</td>\n",
       "      <td>1.084202e-16</td>\n",
       "      <td>3.152860e-16</td>\n",
       "    </tr>\n",
       "    <tr>\n",
       "      <th>1</th>\n",
       "      <td>-3606.800342</td>\n",
       "      <td>4.163437</td>\n",
       "      <td>-0.983330</td>\n",
       "      <td>-1.604882</td>\n",
       "      <td>-0.338579</td>\n",
       "      <td>-0.782995</td>\n",
       "      <td>-0.676778</td>\n",
       "      <td>-0.407839</td>\n",
       "      <td>-0.019127</td>\n",
       "      <td>0.654105</td>\n",
       "      <td>...</td>\n",
       "      <td>-0.138193</td>\n",
       "      <td>0.022197</td>\n",
       "      <td>0.060584</td>\n",
       "      <td>0.105913</td>\n",
       "      <td>-0.004379</td>\n",
       "      <td>0.130466</td>\n",
       "      <td>0.056554</td>\n",
       "      <td>-2.428613e-16</td>\n",
       "      <td>1.830133e-16</td>\n",
       "      <td>5.355959e-16</td>\n",
       "    </tr>\n",
       "    <tr>\n",
       "      <th>2</th>\n",
       "      <td>-3605.799959</td>\n",
       "      <td>8.717281</td>\n",
       "      <td>-2.668608</td>\n",
       "      <td>-1.662101</td>\n",
       "      <td>0.001042</td>\n",
       "      <td>-0.284928</td>\n",
       "      <td>0.816854</td>\n",
       "      <td>-0.004369</td>\n",
       "      <td>-0.449256</td>\n",
       "      <td>0.673278</td>\n",
       "      <td>...</td>\n",
       "      <td>-0.070987</td>\n",
       "      <td>-0.045690</td>\n",
       "      <td>0.014820</td>\n",
       "      <td>0.104344</td>\n",
       "      <td>0.031482</td>\n",
       "      <td>0.121413</td>\n",
       "      <td>0.094998</td>\n",
       "      <td>3.677614e-16</td>\n",
       "      <td>8.838416e-16</td>\n",
       "      <td>4.852889e-16</td>\n",
       "    </tr>\n",
       "    <tr>\n",
       "      <th>3</th>\n",
       "      <td>-3598.800319</td>\n",
       "      <td>0.616735</td>\n",
       "      <td>0.753173</td>\n",
       "      <td>-1.013003</td>\n",
       "      <td>0.531751</td>\n",
       "      <td>0.397252</td>\n",
       "      <td>-0.822494</td>\n",
       "      <td>-0.426778</td>\n",
       "      <td>0.287813</td>\n",
       "      <td>-0.092700</td>\n",
       "      <td>...</td>\n",
       "      <td>-0.045043</td>\n",
       "      <td>0.102959</td>\n",
       "      <td>0.106516</td>\n",
       "      <td>0.064605</td>\n",
       "      <td>0.016621</td>\n",
       "      <td>0.083170</td>\n",
       "      <td>-0.012277</td>\n",
       "      <td>-4.857226e-17</td>\n",
       "      <td>-1.283695e-16</td>\n",
       "      <td>3.348016e-16</td>\n",
       "    </tr>\n",
       "    <tr>\n",
       "      <th>4</th>\n",
       "      <td>-3597.800238</td>\n",
       "      <td>0.348418</td>\n",
       "      <td>1.722251</td>\n",
       "      <td>-0.660394</td>\n",
       "      <td>0.153750</td>\n",
       "      <td>0.080850</td>\n",
       "      <td>0.064526</td>\n",
       "      <td>0.142457</td>\n",
       "      <td>-0.626855</td>\n",
       "      <td>0.145228</td>\n",
       "      <td>...</td>\n",
       "      <td>-1.154296</td>\n",
       "      <td>0.197720</td>\n",
       "      <td>0.242720</td>\n",
       "      <td>0.104561</td>\n",
       "      <td>0.032781</td>\n",
       "      <td>0.117992</td>\n",
       "      <td>-0.162057</td>\n",
       "      <td>-7.424616e-16</td>\n",
       "      <td>7.329207e-16</td>\n",
       "      <td>-7.372575e-18</td>\n",
       "    </tr>\n",
       "  </tbody>\n",
       "</table>\n",
       "<p>5 rows × 27 columns</p>\n",
       "</div>"
      ],
      "text/plain": [
       "            0         1         2         3         4         5         6   \\\n",
       "0 -3606.800717 -2.166804 -0.995908 -0.962445  0.099581 -0.023399  0.145777   \n",
       "1 -3606.800342  4.163437 -0.983330 -1.604882 -0.338579 -0.782995 -0.676778   \n",
       "2 -3605.799959  8.717281 -2.668608 -1.662101  0.001042 -0.284928  0.816854   \n",
       "3 -3598.800319  0.616735  0.753173 -1.013003  0.531751  0.397252 -0.822494   \n",
       "4 -3597.800238  0.348418  1.722251 -0.660394  0.153750  0.080850  0.064526   \n",
       "\n",
       "         7         8         9   ...        17        18        19        20  \\\n",
       "0 -0.185704 -0.794908  0.874357  ... -0.187188  0.052929  0.133208  0.146051   \n",
       "1 -0.407839 -0.019127  0.654105  ... -0.138193  0.022197  0.060584  0.105913   \n",
       "2 -0.004369 -0.449256  0.673278  ... -0.070987 -0.045690  0.014820  0.104344   \n",
       "3 -0.426778  0.287813 -0.092700  ... -0.045043  0.102959  0.106516  0.064605   \n",
       "4  0.142457 -0.626855  0.145228  ... -1.154296  0.197720  0.242720  0.104561   \n",
       "\n",
       "         21        22        23            24            25            26  \n",
       "0 -0.017616  0.136521  0.005772 -3.538836e-16  1.084202e-16  3.152860e-16  \n",
       "1 -0.004379  0.130466  0.056554 -2.428613e-16  1.830133e-16  5.355959e-16  \n",
       "2  0.031482  0.121413  0.094998  3.677614e-16  8.838416e-16  4.852889e-16  \n",
       "3  0.016621  0.083170 -0.012277 -4.857226e-17 -1.283695e-16  3.348016e-16  \n",
       "4  0.032781  0.117992 -0.162057 -7.424616e-16  7.329207e-16 -7.372575e-18  \n",
       "\n",
       "[5 rows x 27 columns]"
      ]
     },
     "execution_count": 14,
     "metadata": {},
     "output_type": "execute_result"
    }
   ],
   "source": [
    "df_trans.head()"
   ]
  },
  {
   "cell_type": "code",
   "execution_count": 15,
   "id": "ace65f0c",
   "metadata": {},
   "outputs": [
    {
     "data": {
      "text/plain": [
       "array([ 1.09500242e-04, -3.82352319e-06,  7.12078939e-05,  9.99999918e-01,\n",
       "        2.48687705e-04,  2.47760901e-04,  1.52347888e-04,  7.98852016e-07,\n",
       "       -2.24883229e-08, -1.19308135e-05,  1.04653924e-05,  6.89057387e-07,\n",
       "       -6.02031566e-06, -9.76931544e-06, -2.31097413e-06,  8.72554775e-07,\n",
       "        5.35757290e-06,  7.32056240e-06,  4.54991515e-06, -7.44934742e-09,\n",
       "       -2.22680238e-06,  9.61856434e-07,  1.21044278e-05, -8.88457918e-07,\n",
       "       -1.11523130e-07, -6.00181818e-06, -3.83023332e-06])"
      ]
     },
     "execution_count": 15,
     "metadata": {},
     "output_type": "execute_result"
    }
   ],
   "source": [
    "pca.components_[0] # coefficients of every column"
   ]
  },
  {
   "cell_type": "markdown",
   "id": "9cd46a20",
   "metadata": {},
   "source": [
    "# How many components to select?"
   ]
  },
  {
   "cell_type": "code",
   "execution_count": 16,
   "id": "ff7895bc",
   "metadata": {},
   "outputs": [
    {
     "data": {
      "text/plain": [
       "array([9.99999366e+01, 3.33397457e-05, 1.14207242e-05, 4.49202656e-06,\n",
       "       1.52189557e-06, 1.42547593e-06, 1.41716416e-06, 1.30462589e-06,\n",
       "       1.17579101e-06, 1.12264086e-06, 9.89530474e-07, 9.30251380e-07,\n",
       "       8.34218350e-07, 6.52582931e-07, 6.09599440e-07, 5.69021756e-07,\n",
       "       4.27074295e-07, 3.39398140e-07, 2.38057326e-07, 2.25200645e-07,\n",
       "       1.87832912e-07, 1.01189350e-07, 8.03933255e-08, 2.74859634e-08,\n",
       "       8.47972880e-31, 8.47972880e-31, 8.47972880e-31])"
      ]
     },
     "execution_count": 16,
     "metadata": {},
     "output_type": "execute_result"
    }
   ],
   "source": [
    "pca.explained_variance_ratio_ * 100"
   ]
  },
  {
   "cell_type": "code",
   "execution_count": 17,
   "id": "4872aad7",
   "metadata": {
    "scrolled": true
   },
   "outputs": [
    {
     "data": {
      "text/plain": [
       "[<matplotlib.lines.Line2D at 0x1f0a338dd50>]"
      ]
     },
     "execution_count": 17,
     "metadata": {},
     "output_type": "execute_result"
    },
    {
     "data": {
      "image/png": "[encoded data removed]",
      "text/plain": [
       "<Figure size 640x480 with 1 Axes>"
      ]
     },
     "metadata": {},
     "output_type": "display_data"
    }
   ],
   "source": [
    "import matplotlib.pyplot as plt\n",
    "plt.plot(list(range(df_ohe.shape[1])), pca.explained_variance_ratio_)"
   ]
  },
  {
   "cell_type": "markdown",
   "id": "1351856c",
   "metadata": {},
   "source": [
    "# Automated way of selecting number of components"
   ]
  },
  {
   "cell_type": "code",
   "execution_count": 18,
   "id": "65aa5d2f",
   "metadata": {},
   "outputs": [],
   "source": [
    "pca1 = PCA(n_components = 0.95, random_state=7 )"
   ]
  },
  {
   "cell_type": "code",
   "execution_count": 19,
   "id": "859b80c2",
   "metadata": {},
   "outputs": [
    {
     "data": {
      "text/html": [
       "<style>#sk-container-id-2 {color: black;}#sk-container-id-2 pre{padding: 0;}#sk-container-id-2 div.sk-toggleable {background-color: white;}#sk-container-id-2 label.sk-toggleable__label {cursor: pointer;display: block;width: 100%;margin-bottom: 0;padding: 0.3em;box-sizing: border-box;text-align: center;}#sk-container-id-2 label.sk-toggleable__label-arrow:before {content: \"▸\";float: left;margin-right: 0.25em;color: #696969;}#sk-container-id-2 label.sk-toggleable__label-arrow:hover:before {color: black;}#sk-container-id-2 div.sk-estimator:hover label.sk-toggleable__label-arrow:before {color: black;}#sk-container-id-2 div.sk-toggleable__content {max-height: 0;max-width: 0;overflow: hidden;text-align: left;background-color: #f0f8ff;}#sk-container-id-2 div.sk-toggleable__content pre {margin: 0.2em;color: black;border-radius: 0.25em;background-color: #f0f8ff;}#sk-container-id-2 input.sk-toggleable__control:checked~div.sk-toggleable__content {max-height: 200px;max-width: 100%;overflow: auto;}#sk-container-id-2 input.sk-toggleable__control:checked~label.sk-toggleable__label-arrow:before {content: \"▾\";}#sk-container-id-2 div.sk-estimator input.sk-toggleable__control:checked~label.sk-toggleable__label {background-color: #d4ebff;}#sk-container-id-2 div.sk-label input.sk-toggleable__control:checked~label.sk-toggleable__label {background-color: #d4ebff;}#sk-container-id-2 input.sk-hidden--visually {border: 0;clip: rect(1px 1px 1px 1px);clip: rect(1px, 1px, 1px, 1px);height: 1px;margin: -1px;overflow: hidden;padding: 0;position: absolute;width: 1px;}#sk-container-id-2 div.sk-estimator {font-family: monospace;background-color: #f0f8ff;border: 1px dotted black;border-radius: 0.25em;box-sizing: border-box;margin-bottom: 0.5em;}#sk-container-id-2 div.sk-estimator:hover {background-color: #d4ebff;}#sk-container-id-2 div.sk-parallel-item::after {content: \"\";width: 100%;border-bottom: 1px solid gray;flex-grow: 1;}#sk-container-id-2 div.sk-label:hover label.sk-toggleable__label {background-color: #d4ebff;}#sk-container-id-2 div.sk-serial::before {content: \"\";position: absolute;border-left: 1px solid gray;box-sizing: border-box;top: 0;bottom: 0;left: 50%;z-index: 0;}#sk-container-id-2 div.sk-serial {display: flex;flex-direction: column;align-items: center;background-color: white;padding-right: 0.2em;padding-left: 0.2em;position: relative;}#sk-container-id-2 div.sk-item {position: relative;z-index: 1;}#sk-container-id-2 div.sk-parallel {display: flex;align-items: stretch;justify-content: center;background-color: white;position: relative;}#sk-container-id-2 div.sk-item::before, #sk-container-id-2 div.sk-parallel-item::before {content: \"\";position: absolute;border-left: 1px solid gray;box-sizing: border-box;top: 0;bottom: 0;left: 50%;z-index: -1;}#sk-container-id-2 div.sk-parallel-item {display: flex;flex-direction: column;z-index: 1;position: relative;background-color: white;}#sk-container-id-2 div.sk-parallel-item:first-child::after {align-self: flex-end;width: 50%;}#sk-container-id-2 div.sk-parallel-item:last-child::after {align-self: flex-start;width: 50%;}#sk-container-id-2 div.sk-parallel-item:only-child::after {width: 0;}#sk-container-id-2 div.sk-dashed-wrapped {border: 1px dashed gray;margin: 0 0.4em 0.5em 0.4em;box-sizing: border-box;padding-bottom: 0.4em;background-color: white;}#sk-container-id-2 div.sk-label label {font-family: monospace;font-weight: bold;display: inline-block;line-height: 1.2em;}#sk-container-id-2 div.sk-label-container {text-align: center;}#sk-container-id-2 div.sk-container {/* jupyter's `normalize.less` sets `[hidden] { display: none; }` but bootstrap.min.css set `[hidden] { display: none !important; }` so we also need the `!important` here to be able to override the default hidden behavior on the sphinx rendered scikit-learn.org. See: https://github.com/scikit-learn/scikit-learn/issues/21755 */display: inline-block !important;position: relative;}#sk-container-id-2 div.sk-text-repr-fallback {display: none;}</style><div id=\"sk-container-id-2\" class=\"sk-top-container\"><div class=\"sk-text-repr-fallback\"><pre>PCA(n_components=0.95, random_state=7)</pre><b>In a Jupyter environment, please rerun this cell to show the HTML representation or trust the notebook. <br />On GitHub, the HTML representation is unable to render, please try loading this page with nbviewer.org.</b></div><div class=\"sk-container\" hidden><div class=\"sk-item\"><div class=\"sk-estimator sk-toggleable\"><input class=\"sk-toggleable__control sk-hidden--visually\" id=\"sk-estimator-id-2\" type=\"checkbox\" checked><label for=\"sk-estimator-id-2\" class=\"sk-toggleable__label sk-toggleable__label-arrow\">PCA</label><div class=\"sk-toggleable__content\"><pre>PCA(n_components=0.95, random_state=7)</pre></div></div></div></div></div>"
      ],
      "text/plain": [
       "PCA(n_components=0.95, random_state=7)"
      ]
     },
     "execution_count": 19,
     "metadata": {},
     "output_type": "execute_result"
    }
   ],
   "source": [
    "pca1.fit(df_ohe)"
   ]
  },
  {
   "cell_type": "code",
   "execution_count": 20,
   "id": "a942461c",
   "metadata": {},
   "outputs": [],
   "source": [
    "trans_data = pca1.transform(df_ohe)"
   ]
  },
  {
   "cell_type": "code",
   "execution_count": 21,
   "id": "5a860b84",
   "metadata": {},
   "outputs": [
    {
     "data": {
      "text/plain": [
       "(53940, 1)"
      ]
     },
     "execution_count": 21,
     "metadata": {},
     "output_type": "execute_result"
    }
   ],
   "source": [
    "trans_data.shape"
   ]
  },
  {
   "cell_type": "code",
   "execution_count": null,
   "id": "3bf1d5d3",
   "metadata": {},
   "outputs": [],
   "source": []
  }
 ],
 "metadata": {
  "kernelspec": {
   "display_name": "Python 3 (ipykernel)",
   "language": "python",
   "name": "python3"
  },
  "language_info": {
   "codemirror_mode": {
    "name": "ipython",
    "version": 3
   },
   "file_extension": ".py",
   "mimetype": "text/x-python",
   "name": "python",
   "nbconvert_exporter": "python",
   "pygments_lexer": "ipython3",
   "version": "3.11.4"
  }
 },
 "nbformat": 4,
 "nbformat_minor": 5
}

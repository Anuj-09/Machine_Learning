{
 "cells": [
  {
   "cell_type": "markdown",
   "id": "d8874589",
   "metadata": {},
   "source": [
    "Q1. Write a function. Given list of strings, find unique values and return them\n"
   ]
  },
  {
   "cell_type": "code",
   "execution_count": 5,
   "id": "70231831",
   "metadata": {},
   "outputs": [
    {
     "name": "stdout",
     "output_type": "stream",
     "text": [
      "['the', 'a', 'an', 'and']\n"
     ]
    }
   ],
   "source": [
    "l = ['the','a','an','and','the','a','and']\n",
    "\n",
    "def unique(List):\n",
    "    l1 = []\n",
    "    for e in List:\n",
    "        if e not in l1:\n",
    "            l1.append(e)\n",
    "    return l1\n",
    "print(unique(l))"
   ]
  },
  {
   "cell_type": "markdown",
   "id": "c1659903",
   "metadata": {},
   "source": [
    "Q2. Write a function. Given list of strings, convert every string to a number using following encoding\n",
    "Every string is given a number based on its alphabetical order in given list\n",
    "return the converted list\n",
    "Ex. l=['A','B','A','D']\n",
    "'A' given 0\n",
    "'B' given 1\n",
    "'D' given 2"
   ]
  },
  {
   "cell_type": "code",
   "execution_count": 25,
   "id": "153045ba",
   "metadata": {},
   "outputs": [
    {
     "data": {
      "text/plain": [
       "[0, 1, 0, 2]"
      ]
     },
     "execution_count": 25,
     "metadata": {},
     "output_type": "execute_result"
    }
   ],
   "source": [
    "l1 = ['A','B','A','D'] \n",
    "\n",
    "def convert(l):\n",
    "    u_l = unique(l)\n",
    "    sort_l = sorted(u_l)\n",
    "    index_l = list(range(len(sort_l)))\n",
    "    d = {}\n",
    "    for i in range(len(sort_l)):\n",
    "        d[sort_l[i]]=index_l[i]\n",
    "    #print(d)\n",
    "\n",
    "    ans_l=[]\n",
    "    for e in l:\n",
    "        ans_l.append(d[e])\n",
    "    return ans_l\n",
    "\n",
    "convert(l1)"
   ]
  },
  {
   "cell_type": "code",
   "execution_count": 20,
   "id": "d93b700f",
   "metadata": {},
   "outputs": [
    {
     "data": {
      "text/plain": [
       "[0, 1, 2]"
      ]
     },
     "execution_count": 20,
     "metadata": {},
     "output_type": "execute_result"
    }
   ],
   "source": [
    "index_l"
   ]
  },
  {
   "cell_type": "code",
   "execution_count": 16,
   "id": "330c6eac",
   "metadata": {},
   "outputs": [
    {
     "data": {
      "text/plain": [
       "['A', 'B', 'D']"
      ]
     },
     "execution_count": 16,
     "metadata": {},
     "output_type": "execute_result"
    }
   ],
   "source": [
    "u_l"
   ]
  },
  {
   "cell_type": "markdown",
   "id": "9679d696",
   "metadata": {},
   "source": [
    "Q3. Write a function. Given list of numbers \n",
    "find mean, median and mode\n"
   ]
  },
  {
   "cell_type": "code",
   "execution_count": 85,
   "id": "1bc7b5e0",
   "metadata": {},
   "outputs": [
    {
     "name": "stdout",
     "output_type": "stream",
     "text": [
      "mean:  5.363636363636363\n",
      "\n",
      "median:  5\n",
      "\n",
      "mode:  [4]\n",
      "\n"
     ]
    }
   ],
   "source": [
    "l = [10,1,2,3,4,5,6,7,8,9,4]\n",
    "\n",
    "def mean(l1):\n",
    "    add = 0\n",
    "    for e in l1:\n",
    "        add = add + e\n",
    "    return add/len(l1)\n",
    "\n",
    "print(\"mean: \",mean(l))\n",
    "print()\n",
    "\n",
    "\n",
    "def median(l):\n",
    "    sort_l = sorted(l)\n",
    "    if len(sort_l)%2 !=0:\n",
    "        return sort_l[(len(sort_l)-1)//2]\n",
    "    else:\n",
    "        a = (len(sort_l)//2-1)\n",
    "        #print(a)\n",
    "        b = len(sort_l)//2\n",
    "        #print(b)\n",
    "        #print(sort_l[a],sort_l[b])\n",
    "        return (sort_l[a]+sort_l[b])/2\n",
    "\n",
    "print(\"median: \",median(l))\n",
    "print()\n",
    "\n",
    "\n",
    "def mode(l):\n",
    "    d = {}\n",
    "    for e in l:\n",
    "        d[e]=l.count(e)\n",
    "    items = list(d.items())\n",
    "    x = sorted(items,key = lambda x:x[1],reverse= True)\n",
    "    #print(x)\n",
    "    #print(x[0][1])\n",
    "    y = []\n",
    "    for tup in x:\n",
    "        if tup[1]==x[0][1]:\n",
    "            y.append(tup)\n",
    "    #print(y)\n",
    "    mode_l=[]\n",
    "    for e in y:\n",
    "        mode_l.append(e[0])\n",
    "    return(mode_l)\n",
    "\n",
    "print(\"mode: \",mode(l))\n",
    "\n",
    "print()"
   ]
  },
  {
   "cell_type": "code",
   "execution_count": 81,
   "id": "c6ef7b79",
   "metadata": {},
   "outputs": [
    {
     "name": "stdout",
     "output_type": "stream",
     "text": [
      "[(4, 2), (10, 1), (1, 1), (2, 1), (3, 1), (5, 1), (6, 1), (7, 1), (8, 1), (9, 1)]\n",
      "2\n",
      "[2]\n"
     ]
    }
   ],
   "source": [
    "d = {}\n",
    "for e in l:\n",
    "    d[e]=l.count(e)\n",
    "items = list(d.items())\n",
    "x = sorted(items,key = lambda x:x[1],reverse= True)\n",
    "print(x)\n",
    "print(x[0][1])\n",
    "y = []\n",
    "for tup in x:\n",
    "    if tup[1]==x[0][1]:\n",
    "        y.append(tup)\n",
    "#print(y)\n",
    "mode_l=[]\n",
    "for e in y:\n",
    "    mode_l.append(e[1])\n",
    "print(mode_l)\n"
   ]
  },
  {
   "cell_type": "code",
   "execution_count": 42,
   "id": "9b48d9b1",
   "metadata": {},
   "outputs": [
    {
     "data": {
      "text/plain": [
       "[1, 2, 3, 4, 5, 6, 7, 8, 9, 10]"
      ]
     },
     "execution_count": 42,
     "metadata": {},
     "output_type": "execute_result"
    }
   ],
   "source": [
    "sort_l"
   ]
  },
  {
   "cell_type": "code",
   "execution_count": null,
   "id": "23f97f13",
   "metadata": {},
   "outputs": [],
   "source": []
  }
 ],
 "metadata": {
  "kernelspec": {
   "display_name": "Python 3 (ipykernel)",
   "language": "python",
   "name": "python3"
  },
  "language_info": {
   "codemirror_mode": {
    "name": "ipython",
    "version": 3
   },
   "file_extension": ".py",
   "mimetype": "text/x-python",
   "name": "python",
   "nbconvert_exporter": "python",
   "pygments_lexer": "ipython3",
   "version": "3.11.4"
  }
 },
 "nbformat": 4,
 "nbformat_minor": 5
}
